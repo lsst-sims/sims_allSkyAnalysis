{
 "cells": [
  {
   "cell_type": "code",
   "execution_count": 1,
   "metadata": {
    "collapsed": false
   },
   "outputs": [
    {
     "name": "stderr",
     "output_type": "stream",
     "text": [
      "/Users/yoachim/lsst/DarwinX86/miniconda2/3.19.0.lsst4/lib/python2.7/site-packages/matplotlib/font_manager.py:273: UserWarning: Matplotlib is building the font cache using fc-list. This may take a moment.\n",
      "  warnings.warn('Matplotlib is building the font cache using fc-list. This may take a moment.')\n"
     ]
    }
   ],
   "source": [
    "%matplotlib inline\n",
    "import numpy as np\n",
    "import healpy as hp"
   ]
  },
  {
   "cell_type": "code",
   "execution_count": 2,
   "metadata": {
    "collapsed": false
   },
   "outputs": [],
   "source": [
    "# Restore the data from\n",
    "temp = np.load('month_o_clouds.npz')\n",
    "cloud_maps = temp['cloud_maps'].copy()\n",
    "mjds = temp['mjds'].copy()\n",
    "map_key = temp['map_key'].copy()\n",
    "temp.close()"
   ]
  },
  {
   "cell_type": "code",
   "execution_count": 3,
   "metadata": {
    "collapsed": false
   },
   "outputs": [
    {
     "data": {
      "image/png": "[encoded data removed]",
      "text/plain": [
       "<matplotlib.figure.Figure at 0x1086a9e50>"
      ]
     },
     "metadata": {},
     "output_type": "display_data"
    }
   ],
   "source": [
    "i = 1000\n",
    "hp.mollview(cloud_maps[i,:], title='mjd=%f' % mjds[i])"
   ]
  },
  {
   "cell_type": "code",
   "execution_count": 4,
   "metadata": {
    "collapsed": false
   },
   "outputs": [
    {
     "data": {
      "text/plain": [
       "array({'bright_in_current': -1, 'good': 0, 'bright_in_last': 1, 'masked': 2}, dtype=object)"
      ]
     },
     "execution_count": 4,
     "metadata": {},
     "output_type": "execute_result"
    }
   ],
   "source": [
    "map_key"
   ]
  },
  {
   "cell_type": "markdown",
   "metadata": {},
   "source": [
    "The cloud_maps array holds a rough cloud map derived from all-sky camera images. Values of 2 are masked (either high airmass or close to the moon), values of 1 mean the pixel was brighter in the previous frame (so was cloudy, and could still be), and values of -1 mean the pixel is brighter in the current frame (probably cloudy). Values of 0 mean the pixel is about the same, so probably clear.  "
   ]
  },
  {
   "cell_type": "code",
   "execution_count": 6,
   "metadata": {
    "collapsed": false
   },
   "outputs": [
    {
     "name": "stdout",
     "output_type": "stream",
     "text": [
      "MJD, hpID, mask_value\n",
      "57200.001875, 1000, 2\n",
      "57200.002685, 1000, 2\n",
      "57200.003507, 1000, 2\n",
      "57200.001875, 1001, 2\n",
      "57200.002685, 1001, 2\n",
      "57200.003507, 1001, 2\n",
      "57200.001875, 1002, 2\n",
      "57200.002685, 1002, 2\n",
      "57200.003507, 1002, 2\n"
     ]
    }
   ],
   "source": [
    "# print out some raw data for 3 healpixels and 3 times.\n",
    "healpixels = [1000,1001, 1002]\n",
    "print 'MJD, hpID, mask_value'\n",
    "for healpixel in healpixels:\n",
    "    for i in range(3):\n",
    "        print '%f, %i, %i' % (mjds[i], healpixel, cloud_maps[i,healpixel])"
   ]
  },
  {
   "cell_type": "code",
   "execution_count": 11,
   "metadata": {
    "collapsed": false
   },
   "outputs": [],
   "source": [
    "from lsst.sims.utils import _raDec2Hpid\n",
    "field_data = np.loadtxt('fieldID.dat', delimiter='|', skiprows=1,\n",
    "                        dtype=zip(['id', 'ra', 'dec'], [int, float, float]))\n",
    "field_data['ra'] = np.radians(field_data['ra'])\n",
    "field_data['dec'] = np.radians(field_data['dec'])\n",
    "\n",
    "# Find the healpix ID for each field center\n",
    "field_hp = _raDec2Hpid(32, field_data['ra'], field_data['dec'])\n",
    "\n",
    "# Use the index to convert a cloud_map to be indexed by healpix id to field id\n",
    "field_mask = cloud_maps[i,field_hp]\n",
    "        "
   ]
  },
  {
   "cell_type": "code",
   "execution_count": 14,
   "metadata": {
    "collapsed": false
   },
   "outputs": [
    {
     "data": {
      "text/plain": [
       "array([0, 0, 0, ..., 2, 2, 2])"
      ]
     },
     "execution_count": 14,
     "metadata": {},
     "output_type": "execute_result"
    }
   ],
   "source": [
    "field_mask"
   ]
  },
  {
   "cell_type": "code",
   "execution_count": null,
   "metadata": {
    "collapsed": true
   },
   "outputs": [],
   "source": []
  }
 ],
 "metadata": {
  "anaconda-cloud": {},
  "kernelspec": {
   "display_name": "Python [conda root]",
   "language": "python",
   "name": "conda-root-py"
  },
  "language_info": {
   "codemirror_mode": {
    "name": "ipython",
    "version": 2
   },
   "file_extension": ".py",
   "mimetype": "text/x-python",
   "name": "python",
   "nbconvert_exporter": "python",
   "pygments_lexer": "ipython2",
   "version": "2.7.12"
  }
 },
 "nbformat": 4,
 "nbformat_minor": 1
}
